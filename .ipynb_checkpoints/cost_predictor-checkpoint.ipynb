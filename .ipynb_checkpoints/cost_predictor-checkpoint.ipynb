{
 "cells": [
  {
   "cell_type": "code",
   "execution_count": 1,
   "metadata": {},
   "outputs": [],
   "source": [
    "import matplotlib.pyplot as plt\n",
    "import pandas as pd\n",
    "import numpy as np\n",
    "\n",
    "%matplotlib inline"
   ]
  },
  {
   "cell_type": "code",
   "execution_count": 2,
   "metadata": {},
   "outputs": [],
   "source": [
    "data = 'data/bid_request_export.csv'\n",
    "df = pd.read_csv(data)"
   ]
  },
  {
   "cell_type": "code",
   "execution_count": 3,
   "metadata": {},
   "outputs": [
    {
     "data": {
      "text/html": [
       "<div>\n",
       "<style scoped>\n",
       "    .dataframe tbody tr th:only-of-type {\n",
       "        vertical-align: middle;\n",
       "    }\n",
       "\n",
       "    .dataframe tbody tr th {\n",
       "        vertical-align: top;\n",
       "    }\n",
       "\n",
       "    .dataframe thead th {\n",
       "        text-align: right;\n",
       "    }\n",
       "</style>\n",
       "<table border=\"1\" class=\"dataframe\">\n",
       "  <thead>\n",
       "    <tr style=\"text-align: right;\">\n",
       "      <th></th>\n",
       "      <th>id</th>\n",
       "      <th>device_id</th>\n",
       "      <th>programmatic_publisher_id</th>\n",
       "      <th>cpm</th>\n",
       "      <th>cost</th>\n",
       "      <th>display_time</th>\n",
       "      <th>created_at</th>\n",
       "      <th>lat</th>\n",
       "      <th>lon</th>\n",
       "      <th>creative_height</th>\n",
       "      <th>creative_width</th>\n",
       "    </tr>\n",
       "  </thead>\n",
       "  <tbody>\n",
       "    <tr>\n",
       "      <td>0</td>\n",
       "      <td>300187940</td>\n",
       "      <td>lamar.com:429.009603</td>\n",
       "      <td>62</td>\n",
       "      <td>4.0</td>\n",
       "      <td>0.044670</td>\n",
       "      <td>1579272025</td>\n",
       "      <td>2020-01-17 15:09:08.929044</td>\n",
       "      <td>35.071590</td>\n",
       "      <td>-78.880340</td>\n",
       "      <td>400.0</td>\n",
       "      <td>1400.0</td>\n",
       "    </tr>\n",
       "    <tr>\n",
       "      <td>1</td>\n",
       "      <td>300187941</td>\n",
       "      <td>lamar.com:221.006113</td>\n",
       "      <td>62</td>\n",
       "      <td>4.0</td>\n",
       "      <td>0.118134</td>\n",
       "      <td>1579271853</td>\n",
       "      <td>2020-01-17 15:09:08.929044</td>\n",
       "      <td>39.089130</td>\n",
       "      <td>-94.486730</td>\n",
       "      <td>400.0</td>\n",
       "      <td>1400.0</td>\n",
       "    </tr>\n",
       "    <tr>\n",
       "      <td>2</td>\n",
       "      <td>300187942</td>\n",
       "      <td>lamar.com:421.000211</td>\n",
       "      <td>62</td>\n",
       "      <td>6.0</td>\n",
       "      <td>0.144345</td>\n",
       "      <td>1579272508</td>\n",
       "      <td>2020-01-17 15:09:08.929044</td>\n",
       "      <td>41.408802</td>\n",
       "      <td>-81.819488</td>\n",
       "      <td>400.0</td>\n",
       "      <td>1400.0</td>\n",
       "    </tr>\n",
       "    <tr>\n",
       "      <td>3</td>\n",
       "      <td>300187943</td>\n",
       "      <td>lamar.com:090.060016</td>\n",
       "      <td>62</td>\n",
       "      <td>4.0</td>\n",
       "      <td>0.019807</td>\n",
       "      <td>1579271825</td>\n",
       "      <td>2020-01-17 15:09:08.929044</td>\n",
       "      <td>30.182783</td>\n",
       "      <td>-92.070178</td>\n",
       "      <td>400.0</td>\n",
       "      <td>840.0</td>\n",
       "    </tr>\n",
       "    <tr>\n",
       "      <td>4</td>\n",
       "      <td>300187944</td>\n",
       "      <td>lamar.com:218.009000</td>\n",
       "      <td>62</td>\n",
       "      <td>4.0</td>\n",
       "      <td>0.031335</td>\n",
       "      <td>1579271560</td>\n",
       "      <td>2020-01-17 15:09:08.929044</td>\n",
       "      <td>38.426140</td>\n",
       "      <td>-82.420120</td>\n",
       "      <td>400.0</td>\n",
       "      <td>840.0</td>\n",
       "    </tr>\n",
       "  </tbody>\n",
       "</table>\n",
       "</div>"
      ],
      "text/plain": [
       "          id             device_id  programmatic_publisher_id  cpm      cost  \\\n",
       "0  300187940  lamar.com:429.009603                         62  4.0  0.044670   \n",
       "1  300187941  lamar.com:221.006113                         62  4.0  0.118134   \n",
       "2  300187942  lamar.com:421.000211                         62  6.0  0.144345   \n",
       "3  300187943  lamar.com:090.060016                         62  4.0  0.019807   \n",
       "4  300187944  lamar.com:218.009000                         62  4.0  0.031335   \n",
       "\n",
       "   display_time                  created_at        lat        lon  \\\n",
       "0    1579272025  2020-01-17 15:09:08.929044  35.071590 -78.880340   \n",
       "1    1579271853  2020-01-17 15:09:08.929044  39.089130 -94.486730   \n",
       "2    1579272508  2020-01-17 15:09:08.929044  41.408802 -81.819488   \n",
       "3    1579271825  2020-01-17 15:09:08.929044  30.182783 -92.070178   \n",
       "4    1579271560  2020-01-17 15:09:08.929044  38.426140 -82.420120   \n",
       "\n",
       "   creative_height  creative_width  \n",
       "0            400.0          1400.0  \n",
       "1            400.0          1400.0  \n",
       "2            400.0          1400.0  \n",
       "3            400.0           840.0  \n",
       "4            400.0           840.0  "
      ]
     },
     "execution_count": 3,
     "metadata": {},
     "output_type": "execute_result"
    }
   ],
   "source": [
    "df.head()"
   ]
  },
  {
   "cell_type": "code",
   "execution_count": 4,
   "metadata": {},
   "outputs": [
    {
     "data": {
      "text/plain": [
       "(20000, 11)"
      ]
     },
     "execution_count": 4,
     "metadata": {},
     "output_type": "execute_result"
    }
   ],
   "source": [
    "df.shape"
   ]
  },
  {
   "cell_type": "code",
   "execution_count": 5,
   "metadata": {},
   "outputs": [
    {
     "data": {
      "text/plain": [
       "id                             int64\n",
       "device_id                     object\n",
       "programmatic_publisher_id      int64\n",
       "cpm                          float64\n",
       "cost                         float64\n",
       "display_time                   int64\n",
       "created_at                    object\n",
       "lat                          float64\n",
       "lon                          float64\n",
       "creative_height              float64\n",
       "creative_width               float64\n",
       "dtype: object"
      ]
     },
     "execution_count": 5,
     "metadata": {},
     "output_type": "execute_result"
    }
   ],
   "source": [
    "df.dtypes"
   ]
  },
  {
   "cell_type": "code",
   "execution_count": 6,
   "metadata": {},
   "outputs": [
    {
     "data": {
      "text/plain": [
       "id                            0\n",
       "device_id                     0\n",
       "programmatic_publisher_id     0\n",
       "cpm                           0\n",
       "cost                          0\n",
       "display_time                  0\n",
       "created_at                    0\n",
       "lat                           0\n",
       "lon                           0\n",
       "creative_height              13\n",
       "creative_width               13\n",
       "dtype: int64"
      ]
     },
     "execution_count": 6,
     "metadata": {},
     "output_type": "execute_result"
    }
   ],
   "source": [
    "df.isnull().sum()"
   ]
  },
  {
   "cell_type": "code",
   "execution_count": 7,
   "metadata": {},
   "outputs": [
    {
     "data": {
      "text/plain": [
       "id                           20000\n",
       "device_id                     5835\n",
       "programmatic_publisher_id        8\n",
       "cpm                             12\n",
       "cost                          3060\n",
       "display_time                  4660\n",
       "created_at                      21\n",
       "lat                           4495\n",
       "lon                           4504\n",
       "creative_height                 23\n",
       "creative_width                  30\n",
       "dtype: int64"
      ]
     },
     "execution_count": 7,
     "metadata": {},
     "output_type": "execute_result"
    }
   ],
   "source": [
    "df.nunique()"
   ]
  },
  {
   "cell_type": "code",
   "execution_count": 14,
   "metadata": {},
   "outputs": [],
   "source": [
    "df['created_at'] = pd.to_datetime(df.created_at)\n",
    "df['sqft'] = [l[0] * l[1] for l in list(zip(df.creative_height, df.creative_width))]\n",
    "df = df.dropna(how='any',axis=0) "
   ]
  },
  {
   "cell_type": "code",
   "execution_count": 15,
   "metadata": {},
   "outputs": [
    {
     "data": {
      "text/plain": [
       "id                                    int64\n",
       "device_id                            object\n",
       "programmatic_publisher_id             int64\n",
       "cpm                                 float64\n",
       "cost                                float64\n",
       "display_time                          int64\n",
       "created_at                   datetime64[ns]\n",
       "lat                                 float64\n",
       "lon                                 float64\n",
       "creative_height                     float64\n",
       "creative_width                      float64\n",
       "sqft                                float64\n",
       "dtype: object"
      ]
     },
     "execution_count": 15,
     "metadata": {},
     "output_type": "execute_result"
    }
   ],
   "source": [
    "df.dtypes"
   ]
  },
  {
   "cell_type": "code",
   "execution_count": 17,
   "metadata": {},
   "outputs": [
    {
     "name": "stdout",
     "output_type": "stream",
     "text": [
      "0.5841083586716076\n",
      "[ 9.47661054e-02 -9.92645612e-04  3.58582213e-07]\n"
     ]
    }
   ],
   "source": [
    "from sklearn.linear_model import LinearRegression\n",
    "from sklearn.model_selection import train_test_split\n",
    "\n",
    "lr = LinearRegression()\n",
    "\n",
    "feature_cols = ['programmatic_publisher_id', 'creative_height', 'sqft']\n",
    "X = df[feature_cols]\n",
    "y = df.cpm\n",
    "\n",
    "X_train, X_test, y_train, y_test = train_test_split(X, y, random_state=99)\n",
    "\n",
    "lr.fit(X_train, y_train)\n",
    "\n",
    "print(lr.intercept_)\n",
    "print(lr.coef_)"
   ]
  },
  {
   "cell_type": "code",
   "execution_count": null,
   "metadata": {},
   "outputs": [],
   "source": []
  }
 ],
 "metadata": {
  "kernelspec": {
   "display_name": "Python 3",
   "language": "python",
   "name": "python3"
  },
  "language_info": {
   "codemirror_mode": {
    "name": "ipython",
    "version": 3
   },
   "file_extension": ".py",
   "mimetype": "text/x-python",
   "name": "python",
   "nbconvert_exporter": "python",
   "pygments_lexer": "ipython3",
   "version": "3.7.4"
  }
 },
 "nbformat": 4,
 "nbformat_minor": 4
}
