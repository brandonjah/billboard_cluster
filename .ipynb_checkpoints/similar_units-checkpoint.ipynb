{
 "cells": [
  {
   "cell_type": "code",
   "execution_count": 1,
   "metadata": {},
   "outputs": [],
   "source": [
    "import matplotlib.pyplot as plt\n",
    "import pandas as pd\n",
    "import numpy as np\n",
    "import pygeohash as pgh\n",
    "\n",
    "%matplotlib inline"
   ]
  },
  {
   "cell_type": "code",
   "execution_count": 2,
   "metadata": {},
   "outputs": [],
   "source": [
    "data = 'data/unit_data.csv'\n",
    "df = pd.read_csv(data)"
   ]
  },
  {
   "cell_type": "code",
   "execution_count": 3,
   "metadata": {},
   "outputs": [
    {
     "data": {
      "text/html": [
       "<div>\n",
       "<style scoped>\n",
       "    .dataframe tbody tr th:only-of-type {\n",
       "        vertical-align: middle;\n",
       "    }\n",
       "\n",
       "    .dataframe tbody tr th {\n",
       "        vertical-align: top;\n",
       "    }\n",
       "\n",
       "    .dataframe thead th {\n",
       "        text-align: right;\n",
       "    }\n",
       "</style>\n",
       "<table border=\"1\" class=\"dataframe\">\n",
       "  <thead>\n",
       "    <tr style=\"text-align: right;\">\n",
       "      <th></th>\n",
       "      <th>id</th>\n",
       "      <th>avg_price</th>\n",
       "      <th>avg_cpm</th>\n",
       "      <th>zip_code</th>\n",
       "      <th>zip_code_id</th>\n",
       "      <th>lat</th>\n",
       "      <th>lon</th>\n",
       "      <th>size</th>\n",
       "      <th>price</th>\n",
       "      <th>rate_card_price</th>\n",
       "      <th>floor_price</th>\n",
       "      <th>cpm</th>\n",
       "      <th>impressions</th>\n",
       "      <th>supplier_id</th>\n",
       "      <th>supplier_face_id</th>\n",
       "    </tr>\n",
       "  </thead>\n",
       "  <tbody>\n",
       "    <tr>\n",
       "      <td>0</td>\n",
       "      <td>468328</td>\n",
       "      <td>850.0</td>\n",
       "      <td>12.58</td>\n",
       "      <td>4042</td>\n",
       "      <td>7217</td>\n",
       "      <td>41.437770</td>\n",
       "      <td>-75.654900</td>\n",
       "      <td>10' 6\" x 22' 9\"</td>\n",
       "      <td>850.0</td>\n",
       "      <td>1020.0</td>\n",
       "      <td>NaN</td>\n",
       "      <td>12.58</td>\n",
       "      <td>67568</td>\n",
       "      <td>39</td>\n",
       "      <td>290</td>\n",
       "    </tr>\n",
       "    <tr>\n",
       "      <td>1</td>\n",
       "      <td>107547</td>\n",
       "      <td>400.0</td>\n",
       "      <td>2.05</td>\n",
       "      <td>4012</td>\n",
       "      <td>15252</td>\n",
       "      <td>29.135220</td>\n",
       "      <td>-82.044840</td>\n",
       "      <td>10' x 40'</td>\n",
       "      <td>400.0</td>\n",
       "      <td>480.0</td>\n",
       "      <td>NaN</td>\n",
       "      <td>2.05</td>\n",
       "      <td>195304</td>\n",
       "      <td>39</td>\n",
       "      <td>3849</td>\n",
       "    </tr>\n",
       "    <tr>\n",
       "      <td>2</td>\n",
       "      <td>316324</td>\n",
       "      <td>250.0</td>\n",
       "      <td>1.54</td>\n",
       "      <td>4006</td>\n",
       "      <td>39634</td>\n",
       "      <td>34.062725</td>\n",
       "      <td>-118.052900</td>\n",
       "      <td>6' x 12'</td>\n",
       "      <td>250.0</td>\n",
       "      <td>300.0</td>\n",
       "      <td>NaN</td>\n",
       "      <td>1.54</td>\n",
       "      <td>162504</td>\n",
       "      <td>39</td>\n",
       "      <td>4484</td>\n",
       "    </tr>\n",
       "    <tr>\n",
       "      <td>3</td>\n",
       "      <td>2065349</td>\n",
       "      <td>460.0</td>\n",
       "      <td>0.28</td>\n",
       "      <td>4022</td>\n",
       "      <td>31588</td>\n",
       "      <td>30.219819</td>\n",
       "      <td>-93.358694</td>\n",
       "      <td>12' x 24'</td>\n",
       "      <td>460.0</td>\n",
       "      <td>460.0</td>\n",
       "      <td>NaN</td>\n",
       "      <td>0.28</td>\n",
       "      <td>1626044</td>\n",
       "      <td>799</td>\n",
       "      <td>0308A S/F</td>\n",
       "    </tr>\n",
       "    <tr>\n",
       "      <td>4</td>\n",
       "      <td>430511</td>\n",
       "      <td>1500.0</td>\n",
       "      <td>3.75</td>\n",
       "      <td>4045</td>\n",
       "      <td>12375</td>\n",
       "      <td>34.007264</td>\n",
       "      <td>-81.015278</td>\n",
       "      <td>10' x 40'</td>\n",
       "      <td>1500.0</td>\n",
       "      <td>1800.0</td>\n",
       "      <td>NaN</td>\n",
       "      <td>3.75</td>\n",
       "      <td>399972</td>\n",
       "      <td>39</td>\n",
       "      <td>71292</td>\n",
       "    </tr>\n",
       "  </tbody>\n",
       "</table>\n",
       "</div>"
      ],
      "text/plain": [
       "        id  avg_price avg_cpm  zip_code  zip_code_id        lat         lon  \\\n",
       "0   468328      850.0   12.58      4042         7217  41.437770  -75.654900   \n",
       "1   107547      400.0    2.05      4012        15252  29.135220  -82.044840   \n",
       "2   316324      250.0    1.54      4006        39634  34.062725 -118.052900   \n",
       "3  2065349      460.0    0.28      4022        31588  30.219819  -93.358694   \n",
       "4   430511     1500.0    3.75      4045        12375  34.007264  -81.015278   \n",
       "\n",
       "              size   price  rate_card_price  floor_price    cpm  impressions  \\\n",
       "0  10' 6\" x 22' 9\"   850.0           1020.0          NaN  12.58        67568   \n",
       "1        10' x 40'   400.0            480.0          NaN   2.05       195304   \n",
       "2         6' x 12'   250.0            300.0          NaN   1.54       162504   \n",
       "3        12' x 24'   460.0            460.0          NaN   0.28      1626044   \n",
       "4        10' x 40'  1500.0           1800.0          NaN   3.75       399972   \n",
       "\n",
       "   supplier_id supplier_face_id  \n",
       "0           39              290  \n",
       "1           39             3849  \n",
       "2           39             4484  \n",
       "3          799        0308A S/F  \n",
       "4           39            71292  "
      ]
     },
     "execution_count": 3,
     "metadata": {},
     "output_type": "execute_result"
    }
   ],
   "source": [
    "df.head()"
   ]
  },
  {
   "cell_type": "code",
   "execution_count": 4,
   "metadata": {},
   "outputs": [
    {
     "data": {
      "text/html": [
       "<div>\n",
       "<style scoped>\n",
       "    .dataframe tbody tr th:only-of-type {\n",
       "        vertical-align: middle;\n",
       "    }\n",
       "\n",
       "    .dataframe tbody tr th {\n",
       "        vertical-align: top;\n",
       "    }\n",
       "\n",
       "    .dataframe thead th {\n",
       "        text-align: right;\n",
       "    }\n",
       "</style>\n",
       "<table border=\"1\" class=\"dataframe\">\n",
       "  <thead>\n",
       "    <tr style=\"text-align: right;\">\n",
       "      <th></th>\n",
       "      <th>id</th>\n",
       "      <th>avg_price</th>\n",
       "      <th>avg_cpm</th>\n",
       "      <th>zip_code</th>\n",
       "      <th>zip_code_id</th>\n",
       "      <th>lat</th>\n",
       "      <th>lon</th>\n",
       "      <th>size</th>\n",
       "      <th>price</th>\n",
       "      <th>rate_card_price</th>\n",
       "      <th>...</th>\n",
       "      <th>supplier_id</th>\n",
       "      <th>supplier_face_id</th>\n",
       "      <th>height</th>\n",
       "      <th>width</th>\n",
       "      <th>rounded_height</th>\n",
       "      <th>rounded_width</th>\n",
       "      <th>normal_size</th>\n",
       "      <th>rounded_size</th>\n",
       "      <th>sqft</th>\n",
       "      <th>geo_hash</th>\n",
       "    </tr>\n",
       "  </thead>\n",
       "  <tbody>\n",
       "    <tr>\n",
       "      <td>0</td>\n",
       "      <td>468328</td>\n",
       "      <td>850.0</td>\n",
       "      <td>12.58</td>\n",
       "      <td>4042</td>\n",
       "      <td>7217</td>\n",
       "      <td>41.437770</td>\n",
       "      <td>-75.654900</td>\n",
       "      <td>10' 6\" x 22' 9\"</td>\n",
       "      <td>850.0</td>\n",
       "      <td>1020.0</td>\n",
       "      <td>...</td>\n",
       "      <td>39</td>\n",
       "      <td>290</td>\n",
       "      <td>10</td>\n",
       "      <td>22</td>\n",
       "      <td>10</td>\n",
       "      <td>20</td>\n",
       "      <td>10x22</td>\n",
       "      <td>10x20</td>\n",
       "      <td>200</td>\n",
       "      <td>dr65</td>\n",
       "    </tr>\n",
       "    <tr>\n",
       "      <td>1</td>\n",
       "      <td>107547</td>\n",
       "      <td>400.0</td>\n",
       "      <td>2.05</td>\n",
       "      <td>4012</td>\n",
       "      <td>15252</td>\n",
       "      <td>29.135220</td>\n",
       "      <td>-82.044840</td>\n",
       "      <td>10' x 40'</td>\n",
       "      <td>400.0</td>\n",
       "      <td>480.0</td>\n",
       "      <td>...</td>\n",
       "      <td>39</td>\n",
       "      <td>3849</td>\n",
       "      <td>10</td>\n",
       "      <td>40</td>\n",
       "      <td>10</td>\n",
       "      <td>40</td>\n",
       "      <td>10x40</td>\n",
       "      <td>10x40</td>\n",
       "      <td>400</td>\n",
       "      <td>djjt</td>\n",
       "    </tr>\n",
       "    <tr>\n",
       "      <td>2</td>\n",
       "      <td>316324</td>\n",
       "      <td>250.0</td>\n",
       "      <td>1.54</td>\n",
       "      <td>4006</td>\n",
       "      <td>39634</td>\n",
       "      <td>34.062725</td>\n",
       "      <td>-118.052900</td>\n",
       "      <td>6' x 12'</td>\n",
       "      <td>250.0</td>\n",
       "      <td>300.0</td>\n",
       "      <td>...</td>\n",
       "      <td>39</td>\n",
       "      <td>4484</td>\n",
       "      <td>6</td>\n",
       "      <td>12</td>\n",
       "      <td>5</td>\n",
       "      <td>10</td>\n",
       "      <td>6x12</td>\n",
       "      <td>5x10</td>\n",
       "      <td>50</td>\n",
       "      <td>9qh1</td>\n",
       "    </tr>\n",
       "    <tr>\n",
       "      <td>3</td>\n",
       "      <td>2065349</td>\n",
       "      <td>460.0</td>\n",
       "      <td>0.28</td>\n",
       "      <td>4022</td>\n",
       "      <td>31588</td>\n",
       "      <td>30.219819</td>\n",
       "      <td>-93.358694</td>\n",
       "      <td>12' x 24'</td>\n",
       "      <td>460.0</td>\n",
       "      <td>460.0</td>\n",
       "      <td>...</td>\n",
       "      <td>799</td>\n",
       "      <td>0308A S/F</td>\n",
       "      <td>12</td>\n",
       "      <td>24</td>\n",
       "      <td>10</td>\n",
       "      <td>25</td>\n",
       "      <td>12x24</td>\n",
       "      <td>10x25</td>\n",
       "      <td>250</td>\n",
       "      <td>9vme</td>\n",
       "    </tr>\n",
       "    <tr>\n",
       "      <td>4</td>\n",
       "      <td>430511</td>\n",
       "      <td>1500.0</td>\n",
       "      <td>3.75</td>\n",
       "      <td>4045</td>\n",
       "      <td>12375</td>\n",
       "      <td>34.007264</td>\n",
       "      <td>-81.015278</td>\n",
       "      <td>10' x 40'</td>\n",
       "      <td>1500.0</td>\n",
       "      <td>1800.0</td>\n",
       "      <td>...</td>\n",
       "      <td>39</td>\n",
       "      <td>71292</td>\n",
       "      <td>10</td>\n",
       "      <td>40</td>\n",
       "      <td>10</td>\n",
       "      <td>40</td>\n",
       "      <td>10x40</td>\n",
       "      <td>10x40</td>\n",
       "      <td>400</td>\n",
       "      <td>dnn3</td>\n",
       "    </tr>\n",
       "  </tbody>\n",
       "</table>\n",
       "<p>5 rows × 23 columns</p>\n",
       "</div>"
      ],
      "text/plain": [
       "        id  avg_price avg_cpm  zip_code  zip_code_id        lat         lon  \\\n",
       "0   468328      850.0   12.58      4042         7217  41.437770  -75.654900   \n",
       "1   107547      400.0    2.05      4012        15252  29.135220  -82.044840   \n",
       "2   316324      250.0    1.54      4006        39634  34.062725 -118.052900   \n",
       "3  2065349      460.0    0.28      4022        31588  30.219819  -93.358694   \n",
       "4   430511     1500.0    3.75      4045        12375  34.007264  -81.015278   \n",
       "\n",
       "              size   price  rate_card_price  ...  supplier_id  \\\n",
       "0  10' 6\" x 22' 9\"   850.0           1020.0  ...           39   \n",
       "1        10' x 40'   400.0            480.0  ...           39   \n",
       "2         6' x 12'   250.0            300.0  ...           39   \n",
       "3        12' x 24'   460.0            460.0  ...          799   \n",
       "4        10' x 40'  1500.0           1800.0  ...           39   \n",
       "\n",
       "   supplier_face_id  height  width rounded_height rounded_width normal_size  \\\n",
       "0               290      10     22             10            20       10x22   \n",
       "1              3849      10     40             10            40       10x40   \n",
       "2              4484       6     12              5            10        6x12   \n",
       "3         0308A S/F      12     24             10            25       12x24   \n",
       "4             71292      10     40             10            40       10x40   \n",
       "\n",
       "   rounded_size  sqft geo_hash  \n",
       "0         10x20   200     dr65  \n",
       "1         10x40   400     djjt  \n",
       "2          5x10    50     9qh1  \n",
       "3         10x25   250     9vme  \n",
       "4         10x40   400     dnn3  \n",
       "\n",
       "[5 rows x 23 columns]"
      ]
     },
     "execution_count": 4,
     "metadata": {},
     "output_type": "execute_result"
    }
   ],
   "source": [
    "import re\n",
    "\n",
    "heights = [] \n",
    "widths = []\n",
    "for size_val in df['size']:\n",
    "    height_match = re.search(\"^(.*?)'\", size_val)\n",
    "    if height_match:\n",
    "        heights.append(height_match.group(1))\n",
    "    else:\n",
    "        heights.append(0)\n",
    "    width_match = re.search(\"(?<=x ).*?(?=')\", size_val)\n",
    "    if width_match:\n",
    "        widths.append(width_match.group(0))\n",
    "    else:\n",
    "        widths.append(0)\n",
    "        \n",
    "rounded_heights = []\n",
    "for h in heights:\n",
    "    if h == '3 units each 70\"H x 48\"W or 1 large unit 68':\n",
    "        h = 70\n",
    "    elif h == '2 (40':\n",
    "        h = 40\n",
    "    elif h == '123\"h x 291\"w 10':\n",
    "        h = 123\n",
    "    rounded_heights.append(5 * round(float(h) / 5))\n",
    "    \n",
    "rounded_widths = []\n",
    "for w in widths:\n",
    "    if w == '48\"W or 1 large unit 68':\n",
    "        w = 48\n",
    "    elif w == '291\"w 10':\n",
    "        w = 291\n",
    "    rounded_widths.append(5 * round(float(w) / 5))\n",
    "\n",
    "df['height'] = heights\n",
    "df['width'] = widths\n",
    "df['rounded_height'] = rounded_heights\n",
    "df['rounded_width'] = rounded_widths\n",
    "df['normal_size'] = ['x'.join(map(str, l)) for l in list(zip(df.height, df.width))]\n",
    "df['rounded_size'] = ['x'.join(map(str, l)) for l in list(zip(df.rounded_height, df.rounded_width))]\n",
    "df['sqft'] = [l[0] * l[1] for l in list(zip(df.rounded_height, df.rounded_width))]\n",
    "df['geo_hash'] = [pgh.encode(l[0], l[1], precision=4) for l in list(zip(df.lat, df.lon))]\n",
    "df.head()"
   ]
  },
  {
   "cell_type": "code",
   "execution_count": 5,
   "metadata": {},
   "outputs": [
    {
     "data": {
      "text/plain": [
       "(21145, 23)"
      ]
     },
     "execution_count": 5,
     "metadata": {},
     "output_type": "execute_result"
    }
   ],
   "source": [
    "df.shape"
   ]
  },
  {
   "cell_type": "code",
   "execution_count": 6,
   "metadata": {},
   "outputs": [
    {
     "data": {
      "text/plain": [
       "id                    int64\n",
       "avg_price           float64\n",
       "avg_cpm              object\n",
       "zip_code              int64\n",
       "zip_code_id           int64\n",
       "lat                 float64\n",
       "lon                 float64\n",
       "size                 object\n",
       "price               float64\n",
       "rate_card_price     float64\n",
       "floor_price         float64\n",
       "cpm                 float64\n",
       "impressions           int64\n",
       "supplier_id           int64\n",
       "supplier_face_id     object\n",
       "height               object\n",
       "width                object\n",
       "rounded_height        int64\n",
       "rounded_width         int64\n",
       "normal_size          object\n",
       "rounded_size         object\n",
       "sqft                  int64\n",
       "geo_hash             object\n",
       "dtype: object"
      ]
     },
     "execution_count": 6,
     "metadata": {},
     "output_type": "execute_result"
    }
   ],
   "source": [
    "df.dtypes"
   ]
  },
  {
   "cell_type": "code",
   "execution_count": 7,
   "metadata": {},
   "outputs": [
    {
     "data": {
      "text/html": [
       "<div>\n",
       "<style scoped>\n",
       "    .dataframe tbody tr th:only-of-type {\n",
       "        vertical-align: middle;\n",
       "    }\n",
       "\n",
       "    .dataframe tbody tr th {\n",
       "        vertical-align: top;\n",
       "    }\n",
       "\n",
       "    .dataframe thead th {\n",
       "        text-align: right;\n",
       "    }\n",
       "</style>\n",
       "<table border=\"1\" class=\"dataframe\">\n",
       "  <thead>\n",
       "    <tr style=\"text-align: right;\">\n",
       "      <th></th>\n",
       "      <th>avg_price</th>\n",
       "      <th>cpm</th>\n",
       "      <th>floor_price</th>\n",
       "      <th>impressions</th>\n",
       "      <th>price</th>\n",
       "      <th>rate_card_price</th>\n",
       "      <th>rounded_height</th>\n",
       "      <th>rounded_width</th>\n",
       "      <th>sqft</th>\n",
       "    </tr>\n",
       "  </thead>\n",
       "  <tbody>\n",
       "    <tr>\n",
       "      <td>count</td>\n",
       "      <td>21145.000000</td>\n",
       "      <td>21145.000000</td>\n",
       "      <td>11.000000</td>\n",
       "      <td>2.114500e+04</td>\n",
       "      <td>21145.000000</td>\n",
       "      <td>21138.000000</td>\n",
       "      <td>21145.000000</td>\n",
       "      <td>21145.000000</td>\n",
       "      <td>21145.000000</td>\n",
       "    </tr>\n",
       "    <tr>\n",
       "      <td>mean</td>\n",
       "      <td>1561.372621</td>\n",
       "      <td>11.546559</td>\n",
       "      <td>17818.181818</td>\n",
       "      <td>4.303586e+05</td>\n",
       "      <td>1567.083054</td>\n",
       "      <td>1897.847792</td>\n",
       "      <td>11.163396</td>\n",
       "      <td>29.475053</td>\n",
       "      <td>378.847245</td>\n",
       "    </tr>\n",
       "    <tr>\n",
       "      <td>std</td>\n",
       "      <td>3605.823774</td>\n",
       "      <td>458.436988</td>\n",
       "      <td>24622.421416</td>\n",
       "      <td>2.021705e+06</td>\n",
       "      <td>3543.029619</td>\n",
       "      <td>4413.328751</td>\n",
       "      <td>14.422744</td>\n",
       "      <td>14.610392</td>\n",
       "      <td>2076.881088</td>\n",
       "    </tr>\n",
       "    <tr>\n",
       "      <td>min</td>\n",
       "      <td>0.000000</td>\n",
       "      <td>0.010000</td>\n",
       "      <td>0.000000</td>\n",
       "      <td>0.000000e+00</td>\n",
       "      <td>100.000000</td>\n",
       "      <td>0.000000</td>\n",
       "      <td>0.000000</td>\n",
       "      <td>0.000000</td>\n",
       "      <td>0.000000</td>\n",
       "    </tr>\n",
       "    <tr>\n",
       "      <td>25%</td>\n",
       "      <td>600.000000</td>\n",
       "      <td>2.380000</td>\n",
       "      <td>11000.000000</td>\n",
       "      <td>1.177440e+05</td>\n",
       "      <td>600.000000</td>\n",
       "      <td>720.000000</td>\n",
       "      <td>10.000000</td>\n",
       "      <td>20.000000</td>\n",
       "      <td>200.000000</td>\n",
       "    </tr>\n",
       "    <tr>\n",
       "      <td>50%</td>\n",
       "      <td>850.000000</td>\n",
       "      <td>3.980000</td>\n",
       "      <td>12500.000000</td>\n",
       "      <td>2.275680e+05</td>\n",
       "      <td>850.000000</td>\n",
       "      <td>1020.000000</td>\n",
       "      <td>10.000000</td>\n",
       "      <td>20.000000</td>\n",
       "      <td>200.000000</td>\n",
       "    </tr>\n",
       "    <tr>\n",
       "      <td>75%</td>\n",
       "      <td>1500.000000</td>\n",
       "      <td>7.030000</td>\n",
       "      <td>12500.000000</td>\n",
       "      <td>4.398720e+05</td>\n",
       "      <td>1500.000000</td>\n",
       "      <td>1800.000000</td>\n",
       "      <td>10.000000</td>\n",
       "      <td>40.000000</td>\n",
       "      <td>400.000000</td>\n",
       "    </tr>\n",
       "    <tr>\n",
       "      <td>max</td>\n",
       "      <td>134639.440000</td>\n",
       "      <td>64102.560000</td>\n",
       "      <td>90000.000000</td>\n",
       "      <td>1.668681e+08</td>\n",
       "      <td>100000.000000</td>\n",
       "      <td>102000.000000</td>\n",
       "      <td>2010.000000</td>\n",
       "      <td>430.000000</td>\n",
       "      <td>291450.000000</td>\n",
       "    </tr>\n",
       "  </tbody>\n",
       "</table>\n",
       "</div>"
      ],
      "text/plain": [
       "           avg_price           cpm   floor_price   impressions          price  \\\n",
       "count   21145.000000  21145.000000     11.000000  2.114500e+04   21145.000000   \n",
       "mean     1561.372621     11.546559  17818.181818  4.303586e+05    1567.083054   \n",
       "std      3605.823774    458.436988  24622.421416  2.021705e+06    3543.029619   \n",
       "min         0.000000      0.010000      0.000000  0.000000e+00     100.000000   \n",
       "25%       600.000000      2.380000  11000.000000  1.177440e+05     600.000000   \n",
       "50%       850.000000      3.980000  12500.000000  2.275680e+05     850.000000   \n",
       "75%      1500.000000      7.030000  12500.000000  4.398720e+05    1500.000000   \n",
       "max    134639.440000  64102.560000  90000.000000  1.668681e+08  100000.000000   \n",
       "\n",
       "       rate_card_price  rounded_height  rounded_width           sqft  \n",
       "count     21138.000000    21145.000000   21145.000000   21145.000000  \n",
       "mean       1897.847792       11.163396      29.475053     378.847245  \n",
       "std        4413.328751       14.422744      14.610392    2076.881088  \n",
       "min           0.000000        0.000000       0.000000       0.000000  \n",
       "25%         720.000000       10.000000      20.000000     200.000000  \n",
       "50%        1020.000000       10.000000      20.000000     200.000000  \n",
       "75%        1800.000000       10.000000      40.000000     400.000000  \n",
       "max      102000.000000     2010.000000     430.000000  291450.000000  "
      ]
     },
     "execution_count": 7,
     "metadata": {},
     "output_type": "execute_result"
    }
   ],
   "source": [
    "limited_df = df.columns.difference(['id', 'zip_code_id', 'zip_code', 'supplier_id', 'lat', 'lon'])\n",
    "df[limited_df].describe()"
   ]
  },
  {
   "cell_type": "code",
   "execution_count": 8,
   "metadata": {},
   "outputs": [
    {
     "data": {
      "text/plain": [
       "id                      0\n",
       "avg_price               0\n",
       "avg_cpm                 0\n",
       "zip_code                0\n",
       "zip_code_id             0\n",
       "lat                     0\n",
       "lon                     0\n",
       "size                    0\n",
       "price                   0\n",
       "rate_card_price         7\n",
       "floor_price         21134\n",
       "cpm                     0\n",
       "impressions             0\n",
       "supplier_id             0\n",
       "supplier_face_id        2\n",
       "height                  0\n",
       "width                   0\n",
       "rounded_height          0\n",
       "rounded_width           0\n",
       "normal_size             0\n",
       "rounded_size            0\n",
       "sqft                    0\n",
       "geo_hash                0\n",
       "dtype: int64"
      ]
     },
     "execution_count": 8,
     "metadata": {},
     "output_type": "execute_result"
    }
   ],
   "source": [
    "df.isnull().sum()"
   ]
  },
  {
   "cell_type": "code",
   "execution_count": 9,
   "metadata": {},
   "outputs": [
    {
     "data": {
      "text/plain": [
       "id                  21145\n",
       "avg_price            2571\n",
       "avg_cpm              2539\n",
       "zip_code               46\n",
       "zip_code_id          5715\n",
       "lat                 18142\n",
       "lon                 18140\n",
       "size                  553\n",
       "price                1696\n",
       "rate_card_price      1634\n",
       "floor_price             7\n",
       "cpm                  2517\n",
       "impressions         19175\n",
       "supplier_id           110\n",
       "supplier_face_id    15503\n",
       "height                 64\n",
       "width                  97\n",
       "rounded_height         24\n",
       "rounded_width          32\n",
       "normal_size           373\n",
       "rounded_size          113\n",
       "sqft                   70\n",
       "geo_hash             2865\n",
       "dtype: int64"
      ]
     },
     "execution_count": 9,
     "metadata": {},
     "output_type": "execute_result"
    }
   ],
   "source": [
    "df.nunique()"
   ]
  },
  {
   "cell_type": "code",
   "execution_count": 10,
   "metadata": {},
   "outputs": [
    {
     "data": {
      "text/plain": [
       "10x20       9365\n",
       "15x50       4116\n",
       "10x35       1786\n",
       "5x10        1319\n",
       "10x25       1154\n",
       "            ... \n",
       "55x15          1\n",
       "45x55          1\n",
       "55x55          1\n",
       "175x55         1\n",
       "2010x145       1\n",
       "Name: rounded_size, Length: 113, dtype: int64"
      ]
     },
     "execution_count": 10,
     "metadata": {},
     "output_type": "execute_result"
    }
   ],
   "source": [
    "df['rounded_size'].value_counts().sort_values(ascending=False)"
   ]
  },
  {
   "cell_type": "markdown",
   "metadata": {},
   "source": [
    "### Ignore rows with unique sizes\n",
    "@TODO, first create sqft column"
   ]
  },
  {
   "cell_type": "code",
   "execution_count": 11,
   "metadata": {},
   "outputs": [
    {
     "data": {
      "text/plain": [
       "(10x20     9365\n",
       " 15x50     4116\n",
       " 10x35     1786\n",
       " 5x10      1319\n",
       " 10x25     1154\n",
       " 10x30     1014\n",
       " 10x40      995\n",
       " 10x50      232\n",
       " 15x40      153\n",
       " 20x60      147\n",
       " 10x15      139\n",
       " 10x10       81\n",
       " 20x50       71\n",
       " 20x80       44\n",
       " 25x25       38\n",
       " 10x45       34\n",
       " 15x30       34\n",
       " 0x0         32\n",
       " 15x45       30\n",
       " 5x15        26\n",
       " 15x25       25\n",
       " 15x35       24\n",
       " 20x30       22\n",
       " 5x20        18\n",
       " 20x25       16\n",
       " 10x5        14\n",
       " 15x60       11\n",
       " 20x40       10\n",
       " 25x35       10\n",
       " 15x10        9\n",
       " 15x15        9\n",
       " 25x40        9\n",
       " 20x20        6\n",
       " 105x35       6\n",
       " 5x5          5\n",
       " 25x60        5\n",
       " 5x25         5\n",
       " 25x30        5\n",
       " 30x20        4\n",
       " 30x25        4\n",
       " 20x70        4\n",
       " 15x55        4\n",
       " Name: rounded_size, dtype: int64,)"
      ]
     },
     "execution_count": 11,
     "metadata": {},
     "output_type": "execute_result"
    }
   ],
   "source": [
    "counts = df['rounded_size'].value_counts()\n",
    "df = df[df['rounded_size'].isin(counts[counts > 3].index)]\n",
    "df['rounded_size'].value_counts().sort_values(ascending=False),"
   ]
  },
  {
   "cell_type": "code",
   "execution_count": 12,
   "metadata": {},
   "outputs": [
    {
     "data": {
      "text/plain": [
       "Text(0, 0.5, 'price')"
      ]
     },
     "execution_count": 12,
     "metadata": {},
     "output_type": "execute_result"
    },
    {
     "data": {
      "image/png": "[encoded data removed]",
      "text/plain": [
       "<Figure size 960x960 with 1 Axes>"
      ]
     },
     "metadata": {
      "needs_background": "light"
     },
     "output_type": "display_data"
    }
   ],
   "source": [
    "plt.figure(figsize=(12, 12), dpi=80)\n",
    "plt.scatter(df.rate_card_price, df.price)\n",
    "plt.xlabel('rate card price')\n",
    "plt.ylabel('price')"
   ]
  },
  {
   "cell_type": "code",
   "execution_count": 13,
   "metadata": {},
   "outputs": [],
   "source": [
    "# scale data"
   ]
  },
  {
   "cell_type": "code",
   "execution_count": 14,
   "metadata": {},
   "outputs": [],
   "source": [
    "# https://pysal.readthedocs.io/en/latest/api.html"
   ]
  },
  {
   "cell_type": "code",
   "execution_count": 15,
   "metadata": {},
   "outputs": [],
   "source": [
    "# https://towardsdatascience.com/how-to-build-a-simple-recommender-system-in-python-375093c3fb7d"
   ]
  },
  {
   "cell_type": "code",
   "execution_count": 16,
   "metadata": {},
   "outputs": [],
   "source": [
    "# https://stackoverflow.com/questions/30485151/python-pandas-exclude-rows-below-a-certain-frequency-count"
   ]
  },
  {
   "cell_type": "code",
   "execution_count": 17,
   "metadata": {},
   "outputs": [],
   "source": [
    "from sklearn.neighbors import KNeighborsClassifier\n",
    "from sklearn.model_selection import train_test_split\n",
    "from sklearn import metrics"
   ]
  },
  {
   "cell_type": "code",
   "execution_count": 18,
   "metadata": {},
   "outputs": [],
   "source": [
    "# impressions/price and cpm are correlated so shouldn't use cpm\n",
    "# need to add the lat lon here using above package\n",
    "# feature_cols = ['price', 'impressions', 'geo_hash']\n",
    "feature_cols = ['price', 'impressions']\n",
    "X = df[feature_cols]\n",
    "y = df.sqft\n",
    "X_train, X_test, y_train, y_test = train_test_split(X, y, random_state=99)"
   ]
  },
  {
   "cell_type": "code",
   "execution_count": 19,
   "metadata": {},
   "outputs": [
    {
     "data": {
      "text/plain": [
       "KNeighborsClassifier(algorithm='auto', leaf_size=30, metric='minkowski',\n",
       "                     metric_params=None, n_jobs=None, n_neighbors=1, p=2,\n",
       "                     weights='uniform')"
      ]
     },
     "execution_count": 19,
     "metadata": {},
     "output_type": "execute_result"
    }
   ],
   "source": [
    "knn = KNeighborsClassifier(n_neighbors=1)\n",
    "knn.fit(X_train, y_train)"
   ]
  },
  {
   "cell_type": "code",
   "execution_count": 20,
   "metadata": {},
   "outputs": [],
   "source": [
    "y_pred_class = knn.predict(X_train)"
   ]
  },
  {
   "cell_type": "code",
   "execution_count": 21,
   "metadata": {},
   "outputs": [
    {
     "name": "stdout",
     "output_type": "stream",
     "text": [
      "0.9994295131845842\n"
     ]
    }
   ],
   "source": [
    "# compute classification accuracy\n",
    "from sklearn import metrics\n",
    "\n",
    "print(metrics.accuracy_score(y_train, y_pred_class))"
   ]
  },
  {
   "cell_type": "code",
   "execution_count": 22,
   "metadata": {},
   "outputs": [],
   "source": [
    "# https://stackoverflow.com/questions/42511056/how-can-one-use-kneighborsregressor-with-haversine-metric\n",
    "# https://datascience.stackexchange.com/questions/761/clustering-geo-location-coordinates-lat-long-pairs\n",
    "# geohash\n",
    "# If the geohashes don't have a linear, ordinal relationship, \n",
    "# then they can't be used as numeric values in a linear model, right? \n",
    "# If that's the case, then they have to be treated as a categorical feature, which would require one-hot encoding\n",
    "# https://datascience.stackexchange.com/questions/23651/can-gps-coordinates-latitude-and-longitude-be-used-as-features-in-a-linear-mod\n",
    "# https://code.google.com/archive/p/s2-geometry-library/"
   ]
  },
  {
   "cell_type": "code",
   "execution_count": 24,
   "metadata": {},
   "outputs": [],
   "source": [
    "from math import radians, cos, sin, asin, sqrt\n",
    "\n",
    "def haversine(lon1, lat1, lon2, lat2):\n",
    "    \"\"\"\n",
    "    Calculate the great circle distance between two points \n",
    "    on the earth (specified in decimal degrees)\n",
    "    \"\"\"\n",
    "    # convert decimal degrees to radians \n",
    "    lon1, lat1, lon2, lat2 = map(radians, [lon1, lat1, lon2, lat2])\n",
    "\n",
    "    # haversine formula \n",
    "    dlon = lon2 - lon1 \n",
    "    dlat = lat2 - lat1 \n",
    "    a = sin(dlat/2)**2 + cos(lat1) * cos(lat2) * sin(dlon/2)**2\n",
    "    c = 2 * asin(sqrt(a)) \n",
    "    r = 6371 # Radius of earth in kilometers. Use 3956 for miles\n",
    "    return c * r"
   ]
  },
  {
   "cell_type": "code",
   "execution_count": null,
   "metadata": {},
   "outputs": [],
   "source": [
    "output_array = []\n",
    "for index1, row1 in df.iterrows():\n",
    "    for index2, row2 in df.iterrows():\n",
    "        if row1['id'] == row2['id']:\n",
    "            pass\n",
    "        h_dist = haversine(row1['lat'], row1['lon'], row2['lat'], row2['lon'])\n",
    "        output_array.append([row1['id'], row2['id'], h_dist])\n",
    "    \n",
    "print(output_array)"
   ]
  },
  {
   "cell_type": "code",
   "execution_count": null,
   "metadata": {},
   "outputs": [],
   "source": []
  }
 ],
 "metadata": {
  "kernelspec": {
   "display_name": "Python 3",
   "language": "python",
   "name": "python3"
  },
  "language_info": {
   "codemirror_mode": {
    "name": "ipython",
    "version": 3
   },
   "file_extension": ".py",
   "mimetype": "text/x-python",
   "name": "python",
   "nbconvert_exporter": "python",
   "pygments_lexer": "ipython3",
   "version": "3.7.4"
  }
 },
 "nbformat": 4,
 "nbformat_minor": 4
}
